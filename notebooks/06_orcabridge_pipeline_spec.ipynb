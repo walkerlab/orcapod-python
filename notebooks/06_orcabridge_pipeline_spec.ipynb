{
 "cells": [
  {
   "cell_type": "code",
   "execution_count": 1,
   "id": "77e34cde",
   "metadata": {},
   "outputs": [],
   "source": [
    "import shutil\n",
    "from orcapod_plus import (\n",
    "    Pod,\n",
    "    Annotation,\n",
    "    StreamInfo,\n",
    "    Pipeline,\n",
    "    store,\n",
    ")\n",
    "from pprint import pprint"
   ]
  },
  {
   "cell_type": "markdown",
   "id": "6c0a87e5",
   "metadata": {},
   "source": [
    "# Pipeline"
   ]
  },
  {
   "cell_type": "markdown",
   "id": "9903635c",
   "metadata": {},
   "source": [
    "Borrowing from the simple example we used in the pipeline concepts review session ([definitions](https://enigma-brain.slack.com/files/U07GMLK82A0/F08QJP1F82Y/orcabridge_demo.pdf), [example](https://enigma-brain.slack.com/files/U07GMLK82A0/F08QTG3NX41/orcabridge_demo.pdf)), we'll define a style transfer chain of computation. First we'll need to define the `Pipeline`. You can think of pipelines as reusable, modular blocks that can be used on their own or assembled/combined to create a more complex computational pipeline via `PipelineJob` (see below).\n",
    "\n",
    "> Note: Since these are more like computational \"templates\", the following are the node rules:\n",
    "> - allowed:\n",
    ">   - `Pod`\n",
    ">   - `Mapper`\n",
    ">   - `Curator`\n",
    "> - not allowed:\n",
    ">   - `Input`"
   ]
  },
  {
   "cell_type": "markdown",
   "id": "0d5702e3",
   "metadata": {},
   "source": [
    "`transfer_style` here is a `Pod` that simply takes 1 subject image and 1 painting style model to produce a result image that applies the painting style transfer."
   ]
  },
  {
   "cell_type": "code",
   "execution_count": 2,
   "id": "f0f25868",
   "metadata": {},
   "outputs": [],
   "source": [
    "transfer_style = Pod(\n",
    "    annotation=Annotation(\n",
    "        name=\"transfer_style\",\n",
    "        version=\"1.0.0\",\n",
    "        description=\"This pod applies an image style transfer.\",\n",
    "    ),\n",
    "    image=\"example.server.com/user/transfer-style:1.0.0\",\n",
    "    command=\"python /run.py\",\n",
    "    input_stream={\n",
    "        \"subject\": StreamInfo(path=\"/input/subject.png\", match_pattern=\".*\\.png\"),\n",
    "        \"style\": StreamInfo(path=\"/input/style.t7\", match_pattern=\".*\\.t7\"),\n",
    "    },\n",
    "    output_dir=\"/output\",\n",
    "    output_stream={\"result\": StreamInfo(path=\"./result.png\", match_pattern=\".*\\.png\")},\n",
    "    source_commit_url=\"https://github.com/user/transfer-style/tree/1.0.0\",\n",
    "    recommended_cpus=0.25,\n",
    "    recommended_memory=1 << 30,\n",
    "    required_gpu=None,\n",
    ")"
   ]
  },
  {
   "cell_type": "code",
   "execution_count": 3,
   "id": "ff34fa8e",
   "metadata": {},
   "outputs": [],
   "source": [
    "store.save_pod(pod=transfer_style)"
   ]
  },
  {
   "cell_type": "markdown",
   "id": "0ce44629",
   "metadata": {},
   "source": [
    "`invert_image` here is just a `Pod` that inverts an image's colors e.g. increase contrast, make colorblind friendly, etc. Really just serving the purpose of demonstrating a multi-pod pipeline."
   ]
  },
  {
   "cell_type": "code",
   "execution_count": 22,
   "id": "417f5d85",
   "metadata": {},
   "outputs": [],
   "source": [
    "invert_image = Pod(\n",
    "    annotation=Annotation(\n",
    "        name=\"invert_image\",\n",
    "        version=\"0.0.1\",\n",
    "        description=\"This pod inverts the image colors.\",\n",
    "    ),\n",
    "    image=\"example.server.com/user/invert-image:0.0.1\",\n",
    "    command=\"python /run.py\",\n",
    "    input_stream={\"source\": StreamInfo(path=\"/input/source.png\", match_pattern=\".*\\.png\")},\n",
    "    output_dir=\"/output\",\n",
    "    output_stream={\"result\": StreamInfo(path=\"./result.png\", match_pattern=\".*\\.png\")},\n",
    "    source_commit_url=\"https://github.com/user/invert-image/tree/0.0.1\",\n",
    "    recommended_cpus=0.1,\n",
    "    recommended_memory=10 << 20,\n",
    "    required_gpu=None,\n",
    ")"
   ]
  },
  {
   "cell_type": "code",
   "execution_count": 23,
   "id": "7a7c1d8b",
   "metadata": {},
   "outputs": [
    {
     "name": "stdout",
     "output_type": "stream",
     "text": [
      "\u001b[33mSkip saving \u001b[96mpod\u001b[0m\u001b[33m model since `\u001b[96m1939246564aa830da5aedec147701fb2930775fdd3778bdc1b5cf67bd8ae2932\u001b[0m\u001b[33m` exists.\u001b[0m\n"
     ]
    }
   ],
   "source": [
    "store.save_pod(pod=invert_image)"
   ]
  },
  {
   "cell_type": "markdown",
   "id": "31b5e430",
   "metadata": {},
   "source": [
    "Here we define the `process_image` pipeline via a YAML spec. This could either be user-facing or what a GUI/Python API would produce from user interaction. It defines the user's intent as a `Pipeline`.\n",
    "\n",
    "Similarly as other `orcapod` models, pipeline `annotation` is optional.\n",
    "\n",
    "`definition` supports DOT syntax, however, style declaration (e.g. colors, shapes, formatting, font size, etc.) should not be included. It is meant only for the graph definition as opposed to how to draw it.\n",
    "\n",
    "`metadata` is for `orcapod`-specific info per node. There are 2 modes for this: an inline definition or via `link` which is more succinct. Both are demonstrated below.\n",
    "- inline definition: A node's annotation and spec can be defined directly.\n",
    "- `link`: The user can reference a model that already exists in the store by specifying the model class (e.g. `pod`) and a `ModelID` for the `link`. As a review, `ModelID` is an enum on rust side which has 2 ways to specify: `Hash` via `hash` (model w/o annotation) or `Annotation` via `name` + `version` (model w/ annotation)."
   ]
  },
  {
   "cell_type": "code",
   "execution_count": 24,
   "id": "dfcbbdf2",
   "metadata": {},
   "outputs": [],
   "source": [
    "pipeline_input = f\"\"\"\n",
    "class: pipeline\n",
    "annotation:\n",
    "  name: process_image\n",
    "  version: 0.1.0\n",
    "  description: This pipeline performs a style transfer + inverts the colors of an image.\n",
    "definition: |\n",
    "  transfer_style -> invert_image\n",
    "metadata:\n",
    "  transfer_style:\n",
    "    spec:\n",
    "      class: pod\n",
    "      link:\n",
    "        hash: {transfer_style.hash()}\n",
    "  invert_image:\n",
    "    annotation:\n",
    "      name: invert_image\n",
    "      version: 0.0.1\n",
    "      description: This pod inverts the image colors.\n",
    "    spec:\n",
    "      class: pod\n",
    "      image: example.server.com/user/invert-image:0.0.1\n",
    "      command: python /run.py\n",
    "      input_stream:\n",
    "        source:\n",
    "          path: /input/source.png\n",
    "          match_pattern: .*\\.png\n",
    "      output_dir: /output\n",
    "      output_stream:\n",
    "        result:\n",
    "          path: ./result.png\n",
    "          match_pattern: .*\\.png\n",
    "      source_commit_url: https://github.com/user/invert-image/tree/0.0.1\n",
    "      recommended_cpus: 0.1\n",
    "      recommended_memory: 10485760\n",
    "      required_gpu: null\n",
    "\"\"\""
   ]
  },
  {
   "cell_type": "markdown",
   "id": "0127e9a3",
   "metadata": {},
   "source": [
    "Before we proceed, we need to parse the user input where we can do several important things. We can do some validation, early error checks and apply a consistent styling to be used later in drawing.\n",
    "\n",
    "I imagine we will eventually have a way of calling `Pipeline:new(...)` and `Pipeline::from_yaml(...)` directly in Rust later. For now, I've demonstrated the `from_yaml` approach below.\n",
    "\n",
    "> Note: Any hidden methods (i.e. beginning with `_`) are used for convenience in this DEMO so they aren't meant to communicate that they should be included in the Rust API design.\n",
    "\n",
    "`_to_yaml` for instance is used to demonstrate the difference between a pipeline that is to be written vs when it is \"loaded\". Notice that all nodes in `metadata` have been specified using the `link` mode when in yaml form while a loaded pipeline has the nodes in `metadata` resolved to their proper model instances. The intent is to promote reuse and limit storage redundancy.\n",
    "\n",
    "Additionally, you may notice that `style` was added. This is meant to organize the DOT draw formatting syntax into this block. Style is nice because it provides a consistent look/feel to the pipeline diagrams provided by `orcapod` e.g. use `box` for `pod`, `circle` for `mapper`, etc. However, keeping them separate gives the caller the opportunity to skip applying styling if it makes sense e.g. non-user-facing logic like traversing the graph."
   ]
  },
  {
   "cell_type": "code",
   "execution_count": 28,
   "id": "535ab244",
   "metadata": {},
   "outputs": [
    {
     "name": "stdout",
     "output_type": "stream",
     "text": [
      "name: process_image\n",
      "version: 0.1.0\n",
      "description: This pipeline performs a style transfer + inverts the colors of an image.\n",
      "\n",
      "class: pipeline\n",
      "definition: transfer_style -> invert_image\n",
      "metadata:\n",
      "  transfer_style:\n",
      "    spec:\n",
      "      class: pod\n",
      "      link:\n",
      "        hash: 16749d5e4bd41d8cc6bcd1d7eeab1a4e35e75a4e558842eba4c10d3d36e9c756\n",
      "  invert_image:\n",
      "    spec:\n",
      "      class: pod\n",
      "      link:\n",
      "        name: invert_image\n",
      "        version: 0.0.1\n",
      "style: |-\n",
      "  label=\"process_image\"\n",
      "  transfer_style [shape=\"box\", label=\"transfer_style\n",
      "  (example.server.com/user/transfer-style:1.0.0)\"]\n",
      "  invert_image [shape=\"box\", label=\"invert_image\n",
      "  (example.server.com/user/invert-image:0.0.1)\"]\n",
      "\n",
      "{'class': 'pipeline',\n",
      " 'annotation': {'name': 'process_image',\n",
      "                'version': '0.1.0',\n",
      "                'description': 'This pipeline performs a style transfer + '\n",
      "                               'inverts the colors of an image.'},\n",
      " 'definition': 'transfer_style -> invert_image\\n',\n",
      " 'metadata': {'transfer_style': <orcapod.orcapod.Pod object at 0x7b1d2d1d1af0>,\n",
      "              'invert_image': <orcapod.orcapod.Pod object at 0x7b1ce87238e0>},\n",
      " 'style': 'label=\"process_image\"\\n'\n",
      "          'transfer_style [shape=\"box\", label=\"transfer_style\\n'\n",
      "          '(example.server.com/user/transfer-style:1.0.0)\"]\\n'\n",
      "          'invert_image [shape=\"box\", label=\"invert_image\\n'\n",
      "          '(example.server.com/user/invert-image:0.0.1)\"]'}\n",
      "Pod {\n",
      "    annotation: None,\n",
      "    hash: \"16749d5e4bd41d8cc6bcd1d7eeab1a4e35e75a4e558842eba4c10d3d36e9c756\",\n",
      "    image: \"example.server.com/user/transfer-style:1.0.0\",\n",
      "    command: \"python /run.py\",\n",
      "    input_stream: {\n",
      "        \"subject\": StreamInfo {\n",
      "            path: \"/input/subject.png\",\n",
      "            match_pattern: \".*\\\\.png\",\n",
      "        },\n",
      "        \"style\": StreamInfo {\n",
      "            path: \"/input/style.t7\",\n",
      "            match_pattern: \".*\\\\.t7\",\n",
      "        },\n",
      "    },\n",
      "    output_dir: \"/output\",\n",
      "    output_stream: {\n",
      "        \"result\": StreamInfo {\n",
      "            path: \"./result.png\",\n",
      "            match_pattern: \".*\\\\.png\",\n",
      "        },\n",
      "    },\n",
      "    source_commit_url: \"https://github.com/user/transfer-style/tree/1.0.0\",\n",
      "    recommended_cpus: 0.25,\n",
      "    recommended_memory: 1073741824,\n",
      "    required_gpu: None,\n",
      "}\n"
     ]
    }
   ],
   "source": [
    "pipeline = Pipeline.from_yaml(pipeline_input=pipeline_input, store=store)\n",
    "print(pipeline._to_yaml()[\"annotation\"])\n",
    "print(pipeline._to_yaml()[\"spec\"])\n",
    "pprint(pipeline._pipeline, sort_dicts=False)\n",
    "print(str(pipeline._pipeline[\"metadata\"][\"transfer_style\"]))"
   ]
  },
  {
   "cell_type": "markdown",
   "id": "d68fa542",
   "metadata": {},
   "source": [
    "Now here is an example of how we can draw the DOT diagram w/ or w/o applying the styling. In the interest of time, I applied a minimal style for now."
   ]
  },
  {
   "cell_type": "code",
   "execution_count": 29,
   "id": "61e11714",
   "metadata": {},
   "outputs": [
    {
     "data": {
      "image/png": "[encoded data removed]",
      "text/plain": [
       "<IPython.core.display.Image object>"
      ]
     },
     "execution_count": 29,
     "metadata": {},
     "output_type": "execute_result"
    }
   ],
   "source": [
    "# pipeline.draw_dot(with_style=False)\n",
    "pipeline.draw_dot(with_style=True)"
   ]
  },
  {
   "cell_type": "markdown",
   "id": "4757a166",
   "metadata": {},
   "source": [
    "Here is an example of how we could generate/draw a `networkx` graph. `with_style` is currently being ignored by `networkx` (should probably remove the arg) but I think that is probably best since I think we may use this library mainly for traversing the graph. Also, we could add the `metadata` info directly to the `networkx` nodes as attributes but this has not been implemented yet."
   ]
  },
  {
   "cell_type": "code",
   "execution_count": 12,
   "id": "3c5a7d65",
   "metadata": {},
   "outputs": [
    {
     "data": {
      "image/png": "[encoded data removed]",
      "text/plain": [
       "<Figure size 640x480 with 1 Axes>"
      ]
     },
     "metadata": {},
     "output_type": "display_data"
    }
   ],
   "source": [
    "pipeline.draw_networkx(with_style=True)"
   ]
  },
  {
   "cell_type": "markdown",
   "id": "bb293e91",
   "metadata": {},
   "source": [
    "Finally, we can save the `Pipeline`. This would in turn call save on all the nodes defined in the pipeline and then call `_to_yaml` before saving the pipeline itself. Since we saved them previously and they are up to date, `orcapod` will simply skip saving the nodes."
   ]
  },
  {
   "cell_type": "code",
   "execution_count": 30,
   "id": "5b18b6b6",
   "metadata": {},
   "outputs": [
    {
     "name": "stdout",
     "output_type": "stream",
     "text": [
      "\u001b[33mSkip saving \u001b[96mpod\u001b[0m\u001b[33m model since `\u001b[96m16749d5e4bd41d8cc6bcd1d7eeab1a4e35e75a4e558842eba4c10d3d36e9c756\u001b[0m\u001b[33m` exists.\u001b[0m\n",
      "\u001b[33mSkip saving \u001b[96mpod\u001b[0m\u001b[33m model since `\u001b[96m1939246564aa830da5aedec147701fb2930775fdd3778bdc1b5cf67bd8ae2932\u001b[0m\u001b[33m` exists.\u001b[0m\n"
     ]
    }
   ],
   "source": [
    "store.save_pipeline(pipeline=pipeline)"
   ]
  },
  {
   "cell_type": "markdown",
   "id": "03dad4e0",
   "metadata": {},
   "source": [
    "Below is a another example of how this spec design allows for the generation of DOT figures simply by using the `graphviz` and `yq` system packages w/o orcapod. Supports including or excluding the style."
   ]
  },
  {
   "cell_type": "code",
   "execution_count": 31,
   "id": "1ffa21c1",
   "metadata": {},
   "outputs": [],
   "source": [
    "# !yq '\"digraph{\\(.definition)}\"' ../.tmp/orcapod_model/pipeline/3e368bf36ccce94bd51432877251c90fe49d2bbfb44be0d4cce8d6e4c9a2f992/spec.yaml | dot -T svg > process_image.svg\n",
    "!yq '\"digraph{\\(.definition)\\n\\(.style)}\"' ../.tmp/orcapod_model/pipeline/3e368bf36ccce94bd51432877251c90fe49d2bbfb44be0d4cce8d6e4c9a2f992/spec.yaml | dot -T svg > process_image.svg"
   ]
  },
  {
   "cell_type": "markdown",
   "id": "0ba6c702",
   "metadata": {},
   "source": [
    "# PipelineJob"
   ]
  },
  {
   "cell_type": "markdown",
   "id": "7a38382d",
   "metadata": {},
   "source": [
    "Now that we have a `Pipeline` defined, we can use it to prepare a new pipeline job to be run. I haven't yet implemented something to DEMO, however, we can review some of the ideas I had related to the user input for a pipeline job. \n",
    "\n",
    "Continuing from the style transfer example, we now can define the pipeline job to demonstrate how we could process a group of subjects and a group of styles.\n",
    "\n",
    "> Note: Since we are now defining the actual computational pipeline we want to run, the following are the node rules:\n",
    "> - allowed:\n",
    ">   - `Input`\n",
    ">   - `Mapper`\n",
    ">   - `Pipeline`\n",
    "> - not allowed:\n",
    ">   - `Curator`\n",
    ">   - `Pod`\n",
    "\n",
    "Similarly as in `Pipeline`, we could specify the allowed nodes in 2 modes: inline definition or using `link`."
   ]
  },
  {
   "cell_type": "code",
   "execution_count": 32,
   "id": "0c36e07d",
   "metadata": {},
   "outputs": [],
   "source": [
    "pipeline_job_input = f\"\"\"\n",
    "class: pipeline_job\n",
    "annotation:\n",
    "  name: process_image_batch\n",
    "  version: 0.2.0\n",
    "  description: This pipeline job performs a style transfer + inverts the colors of a set of images.\n",
    "definition: |\n",
    "  {{subjects, styles}} -> cartesian -> process_image\n",
    "metadata:\n",
    "  subjects:\n",
    "    spec:\n",
    "      class: input\n",
    "      ...\n",
    "  styles:\n",
    "    spec:\n",
    "      class: input\n",
    "      ...\n",
    "  cartesian:\n",
    "    spec:\n",
    "      class: mapper\n",
    "      ...\n",
    "  process_image:\n",
    "    spec:\n",
    "      class: pipeline\n",
    "      link:\n",
    "        name: process_image\n",
    "        version: 0.1.0\n",
    "\"\"\""
   ]
  },
  {
   "cell_type": "markdown",
   "id": "dc0d3013",
   "metadata": {},
   "source": [
    "### Clean up"
   ]
  },
  {
   "cell_type": "code",
   "execution_count": 33,
   "id": "09821dfa",
   "metadata": {},
   "outputs": [],
   "source": [
    "shutil.rmtree(f\"{store.directory()}/orcapod_model\")"
   ]
  },
  {
   "cell_type": "code",
   "execution_count": null,
   "id": "6615ce3e",
   "metadata": {},
   "outputs": [],
   "source": []
  }
 ],
 "metadata": {
  "kernelspec": {
   "display_name": "base",
   "language": "python",
   "name": "python3"
  },
  "language_info": {
   "codemirror_mode": {
    "name": "ipython",
    "version": 3
   },
   "file_extension": ".py",
   "mimetype": "text/x-python",
   "name": "python",
   "nbconvert_exporter": "python",
   "pygments_lexer": "ipython3",
   "version": "3.9.22"
  }
 },
 "nbformat": 4,
 "nbformat_minor": 5
}
